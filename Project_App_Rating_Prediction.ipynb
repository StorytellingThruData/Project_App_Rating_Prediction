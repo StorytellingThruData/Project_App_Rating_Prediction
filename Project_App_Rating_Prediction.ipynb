{
 "cells": [
  {
   "cell_type": "markdown",
   "id": "7c3201cf",
   "metadata": {},
   "source": [
    "# Project_App_Rating_Prediction\n",
    "\n",
    "The problem is to identify the apps that are going to be good for Google to promote. Predict which apps will have high ratings."
   ]
  },
  {
   "cell_type": "code",
   "execution_count": 50,
   "id": "ee074999",
   "metadata": {},
   "outputs": [],
   "source": [
    "# Load the data file using pandas. "
   ]
  },
  {
   "cell_type": "code",
   "execution_count": 186,
   "id": "37214a72",
   "metadata": {},
   "outputs": [],
   "source": [
    "import pandas as pd\n",
    "import numpy as np\n",
    "import matplotlib.pyplot as plt\n",
    "import seaborn as sns\n",
    "sns.set(rc={'figure.figsize':(15,8)})"
   ]
  },
  {
   "cell_type": "code",
   "execution_count": 52,
   "id": "b1df4eb7",
   "metadata": {},
   "outputs": [
    {
     "name": "stdout",
     "output_type": "stream",
     "text": [
      "File Imported Successfully\n"
     ]
    }
   ],
   "source": [
    "data=pd.read_csv('googleplaystore.csv')\n",
    "print(\"File Imported Successfully\")"
   ]
  },
  {
   "cell_type": "code",
   "execution_count": 53,
   "id": "4b7c97ee",
   "metadata": {},
   "outputs": [
    {
     "name": "stdout",
     "output_type": "stream",
     "text": [
      "                                                     App             Category  \\\n",
      "0         Photo Editor & Candy Camera & Grid & ScrapBook       ART_AND_DESIGN   \n",
      "1                                    Coloring book moana       ART_AND_DESIGN   \n",
      "2      U Launcher Lite – FREE Live Cool Themes, Hide ...       ART_AND_DESIGN   \n",
      "3                                  Sketch - Draw & Paint       ART_AND_DESIGN   \n",
      "4                  Pixel Draw - Number Art Coloring Book       ART_AND_DESIGN   \n",
      "...                                                  ...                  ...   \n",
      "10836                                   Sya9a Maroc - FR               FAMILY   \n",
      "10837                   Fr. Mike Schmitz Audio Teachings               FAMILY   \n",
      "10838                             Parkinson Exercices FR              MEDICAL   \n",
      "10839                      The SCP Foundation DB fr nn5n  BOOKS_AND_REFERENCE   \n",
      "10840      iHoroscope - 2018 Daily Horoscope & Astrology            LIFESTYLE   \n",
      "\n",
      "       Rating Reviews                Size     Installs  Type Price  \\\n",
      "0         4.1     159                 19M      10,000+  Free     0   \n",
      "1         3.9     967                 14M     500,000+  Free     0   \n",
      "2         4.7   87510                8.7M   5,000,000+  Free     0   \n",
      "3         4.5  215644                 25M  50,000,000+  Free     0   \n",
      "4         4.3     967                2.8M     100,000+  Free     0   \n",
      "...       ...     ...                 ...          ...   ...   ...   \n",
      "10836     4.5      38                 53M       5,000+  Free     0   \n",
      "10837     5.0       4                3.6M         100+  Free     0   \n",
      "10838     NaN       3                9.5M       1,000+  Free     0   \n",
      "10839     4.5     114  Varies with device       1,000+  Free     0   \n",
      "10840     4.5  398307                 19M  10,000,000+  Free     0   \n",
      "\n",
      "      Content Rating                     Genres      Last Updated  \\\n",
      "0           Everyone               Art & Design   January 7, 2018   \n",
      "1           Everyone  Art & Design;Pretend Play  January 15, 2018   \n",
      "2           Everyone               Art & Design    August 1, 2018   \n",
      "3               Teen               Art & Design      June 8, 2018   \n",
      "4           Everyone    Art & Design;Creativity     June 20, 2018   \n",
      "...              ...                        ...               ...   \n",
      "10836       Everyone                  Education     July 25, 2017   \n",
      "10837       Everyone                  Education      July 6, 2018   \n",
      "10838       Everyone                    Medical  January 20, 2017   \n",
      "10839     Mature 17+          Books & Reference  January 19, 2015   \n",
      "10840       Everyone                  Lifestyle     July 25, 2018   \n",
      "\n",
      "              Current Ver         Android Ver  \n",
      "0                   1.0.0        4.0.3 and up  \n",
      "1                   2.0.0        4.0.3 and up  \n",
      "2                   1.2.4        4.0.3 and up  \n",
      "3      Varies with device          4.2 and up  \n",
      "4                     1.1          4.4 and up  \n",
      "...                   ...                 ...  \n",
      "10836                1.48          4.1 and up  \n",
      "10837                 1.0          4.1 and up  \n",
      "10838                 1.0          2.2 and up  \n",
      "10839  Varies with device  Varies with device  \n",
      "10840  Varies with device  Varies with device  \n",
      "\n",
      "[10841 rows x 13 columns]\n"
     ]
    }
   ],
   "source": [
    "print(data) # prints only top 5 & bottom 5 rows "
   ]
  },
  {
   "cell_type": "code",
   "execution_count": 56,
   "id": "18b74f58",
   "metadata": {},
   "outputs": [
    {
     "data": {
      "text/plain": [
       "(10841, 13)"
      ]
     },
     "execution_count": 56,
     "metadata": {},
     "output_type": "execute_result"
    }
   ],
   "source": [
    "data.shape"
   ]
  },
  {
   "cell_type": "code",
   "execution_count": 57,
   "id": "a75c6443",
   "metadata": {},
   "outputs": [
    {
     "name": "stdout",
     "output_type": "stream",
     "text": [
      "<class 'pandas.core.frame.DataFrame'>\n",
      "RangeIndex: 10841 entries, 0 to 10840\n",
      "Data columns (total 13 columns):\n",
      " #   Column          Non-Null Count  Dtype  \n",
      "---  ------          --------------  -----  \n",
      " 0   App             10841 non-null  object \n",
      " 1   Category        10841 non-null  object \n",
      " 2   Rating          9367 non-null   float64\n",
      " 3   Reviews         10841 non-null  object \n",
      " 4   Size            10841 non-null  object \n",
      " 5   Installs        10841 non-null  object \n",
      " 6   Type            10840 non-null  object \n",
      " 7   Price           10841 non-null  object \n",
      " 8   Content Rating  10840 non-null  object \n",
      " 9   Genres          10841 non-null  object \n",
      " 10  Last Updated    10841 non-null  object \n",
      " 11  Current Ver     10833 non-null  object \n",
      " 12  Android Ver     10838 non-null  object \n",
      "dtypes: float64(1), object(12)\n",
      "memory usage: 1.1+ MB\n"
     ]
    }
   ],
   "source": [
    "data.info()"
   ]
  },
  {
   "cell_type": "code",
   "execution_count": 58,
   "id": "548a459e",
   "metadata": {},
   "outputs": [],
   "source": [
    "# Check for null values in the data. Get the number of null values for each column."
   ]
  },
  {
   "cell_type": "code",
   "execution_count": 59,
   "id": "5d379a23",
   "metadata": {},
   "outputs": [
    {
     "data": {
      "text/html": [
       "<div>\n",
       "<style scoped>\n",
       "    .dataframe tbody tr th:only-of-type {\n",
       "        vertical-align: middle;\n",
       "    }\n",
       "\n",
       "    .dataframe tbody tr th {\n",
       "        vertical-align: top;\n",
       "    }\n",
       "\n",
       "    .dataframe thead th {\n",
       "        text-align: right;\n",
       "    }\n",
       "</style>\n",
       "<table border=\"1\" class=\"dataframe\">\n",
       "  <thead>\n",
       "    <tr style=\"text-align: right;\">\n",
       "      <th></th>\n",
       "      <th>App</th>\n",
       "      <th>Category</th>\n",
       "      <th>Rating</th>\n",
       "      <th>Reviews</th>\n",
       "      <th>Size</th>\n",
       "      <th>Installs</th>\n",
       "      <th>Type</th>\n",
       "      <th>Price</th>\n",
       "      <th>Content Rating</th>\n",
       "      <th>Genres</th>\n",
       "      <th>Last Updated</th>\n",
       "      <th>Current Ver</th>\n",
       "      <th>Android Ver</th>\n",
       "    </tr>\n",
       "  </thead>\n",
       "  <tbody>\n",
       "    <tr>\n",
       "      <th>0</th>\n",
       "      <td>False</td>\n",
       "      <td>False</td>\n",
       "      <td>False</td>\n",
       "      <td>False</td>\n",
       "      <td>False</td>\n",
       "      <td>False</td>\n",
       "      <td>False</td>\n",
       "      <td>False</td>\n",
       "      <td>False</td>\n",
       "      <td>False</td>\n",
       "      <td>False</td>\n",
       "      <td>False</td>\n",
       "      <td>False</td>\n",
       "    </tr>\n",
       "    <tr>\n",
       "      <th>1</th>\n",
       "      <td>False</td>\n",
       "      <td>False</td>\n",
       "      <td>False</td>\n",
       "      <td>False</td>\n",
       "      <td>False</td>\n",
       "      <td>False</td>\n",
       "      <td>False</td>\n",
       "      <td>False</td>\n",
       "      <td>False</td>\n",
       "      <td>False</td>\n",
       "      <td>False</td>\n",
       "      <td>False</td>\n",
       "      <td>False</td>\n",
       "    </tr>\n",
       "    <tr>\n",
       "      <th>2</th>\n",
       "      <td>False</td>\n",
       "      <td>False</td>\n",
       "      <td>False</td>\n",
       "      <td>False</td>\n",
       "      <td>False</td>\n",
       "      <td>False</td>\n",
       "      <td>False</td>\n",
       "      <td>False</td>\n",
       "      <td>False</td>\n",
       "      <td>False</td>\n",
       "      <td>False</td>\n",
       "      <td>False</td>\n",
       "      <td>False</td>\n",
       "    </tr>\n",
       "    <tr>\n",
       "      <th>3</th>\n",
       "      <td>False</td>\n",
       "      <td>False</td>\n",
       "      <td>False</td>\n",
       "      <td>False</td>\n",
       "      <td>False</td>\n",
       "      <td>False</td>\n",
       "      <td>False</td>\n",
       "      <td>False</td>\n",
       "      <td>False</td>\n",
       "      <td>False</td>\n",
       "      <td>False</td>\n",
       "      <td>False</td>\n",
       "      <td>False</td>\n",
       "    </tr>\n",
       "    <tr>\n",
       "      <th>4</th>\n",
       "      <td>False</td>\n",
       "      <td>False</td>\n",
       "      <td>False</td>\n",
       "      <td>False</td>\n",
       "      <td>False</td>\n",
       "      <td>False</td>\n",
       "      <td>False</td>\n",
       "      <td>False</td>\n",
       "      <td>False</td>\n",
       "      <td>False</td>\n",
       "      <td>False</td>\n",
       "      <td>False</td>\n",
       "      <td>False</td>\n",
       "    </tr>\n",
       "    <tr>\n",
       "      <th>...</th>\n",
       "      <td>...</td>\n",
       "      <td>...</td>\n",
       "      <td>...</td>\n",
       "      <td>...</td>\n",
       "      <td>...</td>\n",
       "      <td>...</td>\n",
       "      <td>...</td>\n",
       "      <td>...</td>\n",
       "      <td>...</td>\n",
       "      <td>...</td>\n",
       "      <td>...</td>\n",
       "      <td>...</td>\n",
       "      <td>...</td>\n",
       "    </tr>\n",
       "    <tr>\n",
       "      <th>10836</th>\n",
       "      <td>False</td>\n",
       "      <td>False</td>\n",
       "      <td>False</td>\n",
       "      <td>False</td>\n",
       "      <td>False</td>\n",
       "      <td>False</td>\n",
       "      <td>False</td>\n",
       "      <td>False</td>\n",
       "      <td>False</td>\n",
       "      <td>False</td>\n",
       "      <td>False</td>\n",
       "      <td>False</td>\n",
       "      <td>False</td>\n",
       "    </tr>\n",
       "    <tr>\n",
       "      <th>10837</th>\n",
       "      <td>False</td>\n",
       "      <td>False</td>\n",
       "      <td>False</td>\n",
       "      <td>False</td>\n",
       "      <td>False</td>\n",
       "      <td>False</td>\n",
       "      <td>False</td>\n",
       "      <td>False</td>\n",
       "      <td>False</td>\n",
       "      <td>False</td>\n",
       "      <td>False</td>\n",
       "      <td>False</td>\n",
       "      <td>False</td>\n",
       "    </tr>\n",
       "    <tr>\n",
       "      <th>10838</th>\n",
       "      <td>False</td>\n",
       "      <td>False</td>\n",
       "      <td>True</td>\n",
       "      <td>False</td>\n",
       "      <td>False</td>\n",
       "      <td>False</td>\n",
       "      <td>False</td>\n",
       "      <td>False</td>\n",
       "      <td>False</td>\n",
       "      <td>False</td>\n",
       "      <td>False</td>\n",
       "      <td>False</td>\n",
       "      <td>False</td>\n",
       "    </tr>\n",
       "    <tr>\n",
       "      <th>10839</th>\n",
       "      <td>False</td>\n",
       "      <td>False</td>\n",
       "      <td>False</td>\n",
       "      <td>False</td>\n",
       "      <td>False</td>\n",
       "      <td>False</td>\n",
       "      <td>False</td>\n",
       "      <td>False</td>\n",
       "      <td>False</td>\n",
       "      <td>False</td>\n",
       "      <td>False</td>\n",
       "      <td>False</td>\n",
       "      <td>False</td>\n",
       "    </tr>\n",
       "    <tr>\n",
       "      <th>10840</th>\n",
       "      <td>False</td>\n",
       "      <td>False</td>\n",
       "      <td>False</td>\n",
       "      <td>False</td>\n",
       "      <td>False</td>\n",
       "      <td>False</td>\n",
       "      <td>False</td>\n",
       "      <td>False</td>\n",
       "      <td>False</td>\n",
       "      <td>False</td>\n",
       "      <td>False</td>\n",
       "      <td>False</td>\n",
       "      <td>False</td>\n",
       "    </tr>\n",
       "  </tbody>\n",
       "</table>\n",
       "<p>10841 rows × 13 columns</p>\n",
       "</div>"
      ],
      "text/plain": [
       "         App  Category  Rating  Reviews   Size  Installs   Type  Price  \\\n",
       "0      False     False   False    False  False     False  False  False   \n",
       "1      False     False   False    False  False     False  False  False   \n",
       "2      False     False   False    False  False     False  False  False   \n",
       "3      False     False   False    False  False     False  False  False   \n",
       "4      False     False   False    False  False     False  False  False   \n",
       "...      ...       ...     ...      ...    ...       ...    ...    ...   \n",
       "10836  False     False   False    False  False     False  False  False   \n",
       "10837  False     False   False    False  False     False  False  False   \n",
       "10838  False     False    True    False  False     False  False  False   \n",
       "10839  False     False   False    False  False     False  False  False   \n",
       "10840  False     False   False    False  False     False  False  False   \n",
       "\n",
       "       Content Rating  Genres  Last Updated  Current Ver  Android Ver  \n",
       "0               False   False         False        False        False  \n",
       "1               False   False         False        False        False  \n",
       "2               False   False         False        False        False  \n",
       "3               False   False         False        False        False  \n",
       "4               False   False         False        False        False  \n",
       "...               ...     ...           ...          ...          ...  \n",
       "10836           False   False         False        False        False  \n",
       "10837           False   False         False        False        False  \n",
       "10838           False   False         False        False        False  \n",
       "10839           False   False         False        False        False  \n",
       "10840           False   False         False        False        False  \n",
       "\n",
       "[10841 rows x 13 columns]"
      ]
     },
     "execution_count": 59,
     "metadata": {},
     "output_type": "execute_result"
    }
   ],
   "source": [
    "data.isnull()"
   ]
  },
  {
   "cell_type": "code",
   "execution_count": 60,
   "id": "295c096a",
   "metadata": {},
   "outputs": [
    {
     "data": {
      "text/plain": [
       "App                  0\n",
       "Category             0\n",
       "Rating            1474\n",
       "Reviews              0\n",
       "Size                 0\n",
       "Installs             0\n",
       "Type                 1\n",
       "Price                0\n",
       "Content Rating       1\n",
       "Genres               0\n",
       "Last Updated         0\n",
       "Current Ver          8\n",
       "Android Ver          3\n",
       "dtype: int64"
      ]
     },
     "execution_count": 60,
     "metadata": {},
     "output_type": "execute_result"
    }
   ],
   "source": [
    "# null values for each column\n",
    "data.isnull().sum()"
   ]
  },
  {
   "cell_type": "code",
   "execution_count": 61,
   "id": "be45af05",
   "metadata": {},
   "outputs": [],
   "source": [
    "# Drop records with nulls in any of the columns. "
   ]
  },
  {
   "cell_type": "code",
   "execution_count": 62,
   "id": "f7783d33",
   "metadata": {},
   "outputs": [],
   "source": [
    "data.dropna(inplace=True)"
   ]
  },
  {
   "cell_type": "code",
   "execution_count": 63,
   "id": "ed326556",
   "metadata": {},
   "outputs": [
    {
     "data": {
      "text/plain": [
       "App               0\n",
       "Category          0\n",
       "Rating            0\n",
       "Reviews           0\n",
       "Size              0\n",
       "Installs          0\n",
       "Type              0\n",
       "Price             0\n",
       "Content Rating    0\n",
       "Genres            0\n",
       "Last Updated      0\n",
       "Current Ver       0\n",
       "Android Ver       0\n",
       "dtype: int64"
      ]
     },
     "execution_count": 63,
     "metadata": {},
     "output_type": "execute_result"
    }
   ],
   "source": [
    "data.isnull().sum()"
   ]
  },
  {
   "cell_type": "code",
   "execution_count": 64,
   "id": "f51aae2c",
   "metadata": {},
   "outputs": [],
   "source": [
    "# Fixing Variables type and inconsistent formatting"
   ]
  },
  {
   "cell_type": "code",
   "execution_count": 65,
   "id": "ff51e6d1",
   "metadata": {},
   "outputs": [
    {
     "data": {
      "text/plain": [
       "App                object\n",
       "Category           object\n",
       "Rating            float64\n",
       "Reviews            object\n",
       "Size               object\n",
       "Installs           object\n",
       "Type               object\n",
       "Price              object\n",
       "Content Rating     object\n",
       "Genres             object\n",
       "Last Updated       object\n",
       "Current Ver        object\n",
       "Android Ver        object\n",
       "dtype: object"
      ]
     },
     "execution_count": 65,
     "metadata": {},
     "output_type": "execute_result"
    }
   ],
   "source": [
    "data.dtypes"
   ]
  },
  {
   "cell_type": "code",
   "execution_count": 66,
   "id": "cf8f8a84",
   "metadata": {},
   "outputs": [
    {
     "data": {
      "text/plain": [
       "Index(['App', 'Category', 'Rating', 'Reviews', 'Size', 'Installs', 'Type',\n",
       "       'Price', 'Content Rating', 'Genres', 'Last Updated', 'Current Ver',\n",
       "       'Android Ver'],\n",
       "      dtype='object')"
      ]
     },
     "execution_count": 66,
     "metadata": {},
     "output_type": "execute_result"
    }
   ],
   "source": [
    "#let's print our variables\n",
    "data.columns"
   ]
  },
  {
   "cell_type": "code",
   "execution_count": 67,
   "id": "e7037502",
   "metadata": {},
   "outputs": [
    {
     "data": {
      "text/plain": [
       "Varies with device    1637\n",
       "14M                    165\n",
       "12M                    161\n",
       "15M                    159\n",
       "11M                    159\n",
       "                      ... \n",
       "383k                     1\n",
       "454k                     1\n",
       "812k                     1\n",
       "442k                     1\n",
       "619k                     1\n",
       "Name: Size, Length: 413, dtype: int64"
      ]
     },
     "execution_count": 67,
     "metadata": {},
     "output_type": "execute_result"
    }
   ],
   "source": [
    "# Extract the numeric value of the column\n",
    "data['Size'].value_counts()"
   ]
  },
  {
   "cell_type": "code",
   "execution_count": 68,
   "id": "85897361",
   "metadata": {},
   "outputs": [],
   "source": [
    "# we define a function to will remove M, k, converts to float and mulitply by 1000, otherwise returns None"
   ]
  },
  {
   "cell_type": "code",
   "execution_count": 69,
   "id": "930167ee",
   "metadata": {},
   "outputs": [],
   "source": [
    "def change(Size): # this will remove M, convert to float and mulitply by 1000\n",
    "    if 'M' in Size:\n",
    "        x=Size[:-1]\n",
    "        x=float(x)*1000\n",
    "        return x\n",
    "    elif 'k' in Size:\n",
    "        x=Size[:-1]\n",
    "        x=float(x)\n",
    "        return x\n",
    "    else:\n",
    "        return None # it will make it none"
   ]
  },
  {
   "cell_type": "code",
   "execution_count": 70,
   "id": "54029aaa",
   "metadata": {},
   "outputs": [],
   "source": [
    "data['Size']=data['Size'].map(change)"
   ]
  },
  {
   "cell_type": "code",
   "execution_count": 71,
   "id": "133fcd38",
   "metadata": {
    "scrolled": true
   },
   "outputs": [
    {
     "data": {
      "text/html": [
       "<div>\n",
       "<style scoped>\n",
       "    .dataframe tbody tr th:only-of-type {\n",
       "        vertical-align: middle;\n",
       "    }\n",
       "\n",
       "    .dataframe tbody tr th {\n",
       "        vertical-align: top;\n",
       "    }\n",
       "\n",
       "    .dataframe thead th {\n",
       "        text-align: right;\n",
       "    }\n",
       "</style>\n",
       "<table border=\"1\" class=\"dataframe\">\n",
       "  <thead>\n",
       "    <tr style=\"text-align: right;\">\n",
       "      <th></th>\n",
       "      <th>App</th>\n",
       "      <th>Category</th>\n",
       "      <th>Rating</th>\n",
       "      <th>Reviews</th>\n",
       "      <th>Size</th>\n",
       "      <th>Installs</th>\n",
       "      <th>Type</th>\n",
       "      <th>Price</th>\n",
       "      <th>Content Rating</th>\n",
       "      <th>Genres</th>\n",
       "      <th>Last Updated</th>\n",
       "      <th>Current Ver</th>\n",
       "      <th>Android Ver</th>\n",
       "    </tr>\n",
       "  </thead>\n",
       "  <tbody>\n",
       "    <tr>\n",
       "      <th>0</th>\n",
       "      <td>Photo Editor &amp; Candy Camera &amp; Grid &amp; ScrapBook</td>\n",
       "      <td>ART_AND_DESIGN</td>\n",
       "      <td>4.1</td>\n",
       "      <td>159</td>\n",
       "      <td>19000.0</td>\n",
       "      <td>10,000+</td>\n",
       "      <td>Free</td>\n",
       "      <td>0</td>\n",
       "      <td>Everyone</td>\n",
       "      <td>Art &amp; Design</td>\n",
       "      <td>January 7, 2018</td>\n",
       "      <td>1.0.0</td>\n",
       "      <td>4.0.3 and up</td>\n",
       "    </tr>\n",
       "    <tr>\n",
       "      <th>1</th>\n",
       "      <td>Coloring book moana</td>\n",
       "      <td>ART_AND_DESIGN</td>\n",
       "      <td>3.9</td>\n",
       "      <td>967</td>\n",
       "      <td>14000.0</td>\n",
       "      <td>500,000+</td>\n",
       "      <td>Free</td>\n",
       "      <td>0</td>\n",
       "      <td>Everyone</td>\n",
       "      <td>Art &amp; Design;Pretend Play</td>\n",
       "      <td>January 15, 2018</td>\n",
       "      <td>2.0.0</td>\n",
       "      <td>4.0.3 and up</td>\n",
       "    </tr>\n",
       "    <tr>\n",
       "      <th>2</th>\n",
       "      <td>U Launcher Lite – FREE Live Cool Themes, Hide ...</td>\n",
       "      <td>ART_AND_DESIGN</td>\n",
       "      <td>4.7</td>\n",
       "      <td>87510</td>\n",
       "      <td>8700.0</td>\n",
       "      <td>5,000,000+</td>\n",
       "      <td>Free</td>\n",
       "      <td>0</td>\n",
       "      <td>Everyone</td>\n",
       "      <td>Art &amp; Design</td>\n",
       "      <td>August 1, 2018</td>\n",
       "      <td>1.2.4</td>\n",
       "      <td>4.0.3 and up</td>\n",
       "    </tr>\n",
       "    <tr>\n",
       "      <th>3</th>\n",
       "      <td>Sketch - Draw &amp; Paint</td>\n",
       "      <td>ART_AND_DESIGN</td>\n",
       "      <td>4.5</td>\n",
       "      <td>215644</td>\n",
       "      <td>25000.0</td>\n",
       "      <td>50,000,000+</td>\n",
       "      <td>Free</td>\n",
       "      <td>0</td>\n",
       "      <td>Teen</td>\n",
       "      <td>Art &amp; Design</td>\n",
       "      <td>June 8, 2018</td>\n",
       "      <td>Varies with device</td>\n",
       "      <td>4.2 and up</td>\n",
       "    </tr>\n",
       "    <tr>\n",
       "      <th>4</th>\n",
       "      <td>Pixel Draw - Number Art Coloring Book</td>\n",
       "      <td>ART_AND_DESIGN</td>\n",
       "      <td>4.3</td>\n",
       "      <td>967</td>\n",
       "      <td>2800.0</td>\n",
       "      <td>100,000+</td>\n",
       "      <td>Free</td>\n",
       "      <td>0</td>\n",
       "      <td>Everyone</td>\n",
       "      <td>Art &amp; Design;Creativity</td>\n",
       "      <td>June 20, 2018</td>\n",
       "      <td>1.1</td>\n",
       "      <td>4.4 and up</td>\n",
       "    </tr>\n",
       "  </tbody>\n",
       "</table>\n",
       "</div>"
      ],
      "text/plain": [
       "                                                 App        Category  Rating  \\\n",
       "0     Photo Editor & Candy Camera & Grid & ScrapBook  ART_AND_DESIGN     4.1   \n",
       "1                                Coloring book moana  ART_AND_DESIGN     3.9   \n",
       "2  U Launcher Lite – FREE Live Cool Themes, Hide ...  ART_AND_DESIGN     4.7   \n",
       "3                              Sketch - Draw & Paint  ART_AND_DESIGN     4.5   \n",
       "4              Pixel Draw - Number Art Coloring Book  ART_AND_DESIGN     4.3   \n",
       "\n",
       "  Reviews     Size     Installs  Type Price Content Rating  \\\n",
       "0     159  19000.0      10,000+  Free     0       Everyone   \n",
       "1     967  14000.0     500,000+  Free     0       Everyone   \n",
       "2   87510   8700.0   5,000,000+  Free     0       Everyone   \n",
       "3  215644  25000.0  50,000,000+  Free     0           Teen   \n",
       "4     967   2800.0     100,000+  Free     0       Everyone   \n",
       "\n",
       "                      Genres      Last Updated         Current Ver  \\\n",
       "0               Art & Design   January 7, 2018               1.0.0   \n",
       "1  Art & Design;Pretend Play  January 15, 2018               2.0.0   \n",
       "2               Art & Design    August 1, 2018               1.2.4   \n",
       "3               Art & Design      June 8, 2018  Varies with device   \n",
       "4    Art & Design;Creativity     June 20, 2018                 1.1   \n",
       "\n",
       "    Android Ver  \n",
       "0  4.0.3 and up  \n",
       "1  4.0.3 and up  \n",
       "2  4.0.3 and up  \n",
       "3    4.2 and up  \n",
       "4    4.4 and up  "
      ]
     },
     "execution_count": 71,
     "metadata": {},
     "output_type": "execute_result"
    }
   ],
   "source": [
    "data.head()"
   ]
  },
  {
   "cell_type": "code",
   "execution_count": 72,
   "id": "4304e79b",
   "metadata": {},
   "outputs": [],
   "source": [
    "# we've got new null cuz of the function"
   ]
  },
  {
   "cell_type": "code",
   "execution_count": 73,
   "id": "de199f16",
   "metadata": {},
   "outputs": [
    {
     "data": {
      "text/plain": [
       "0        19000.0\n",
       "1        14000.0\n",
       "2         8700.0\n",
       "3        25000.0\n",
       "4         2800.0\n",
       "          ...   \n",
       "10834     2600.0\n",
       "10836    53000.0\n",
       "10837     3600.0\n",
       "10839        NaN\n",
       "10840    19000.0\n",
       "Name: Size, Length: 9360, dtype: float64"
      ]
     },
     "execution_count": 73,
     "metadata": {},
     "output_type": "execute_result"
    }
   ],
   "source": [
    "data['Size'] "
   ]
  },
  {
   "cell_type": "code",
   "execution_count": null,
   "id": "74fbc01c",
   "metadata": {},
   "outputs": [],
   "source": []
  },
  {
   "cell_type": "code",
   "execution_count": 74,
   "id": "a7c69eb3",
   "metadata": {},
   "outputs": [
    {
     "data": {
      "text/plain": [
       "App                  0\n",
       "Category             0\n",
       "Rating               0\n",
       "Reviews              0\n",
       "Size              1637\n",
       "Installs             0\n",
       "Type                 0\n",
       "Price                0\n",
       "Content Rating       0\n",
       "Genres               0\n",
       "Last Updated         0\n",
       "Current Ver          0\n",
       "Android Ver          0\n",
       "dtype: int64"
      ]
     },
     "execution_count": 74,
     "metadata": {},
     "output_type": "execute_result"
    }
   ],
   "source": [
    "data.isnull().sum()"
   ]
  },
  {
   "cell_type": "code",
   "execution_count": 75,
   "id": "aceab9b8",
   "metadata": {},
   "outputs": [],
   "source": [
    "# we have NaN- we need to fill it with a value\n",
    "# we fill null values with zeros with 'ffill'"
   ]
  },
  {
   "cell_type": "code",
   "execution_count": 76,
   "id": "e16db7ac",
   "metadata": {},
   "outputs": [],
   "source": [
    "data.Size.fillna(method='ffill',inplace=True) # forward fill"
   ]
  },
  {
   "cell_type": "code",
   "execution_count": 77,
   "id": "c4fb6040",
   "metadata": {},
   "outputs": [
    {
     "data": {
      "text/plain": [
       "App               0\n",
       "Category          0\n",
       "Rating            0\n",
       "Reviews           0\n",
       "Size              0\n",
       "Installs          0\n",
       "Type              0\n",
       "Price             0\n",
       "Content Rating    0\n",
       "Genres            0\n",
       "Last Updated      0\n",
       "Current Ver       0\n",
       "Android Ver       0\n",
       "dtype: int64"
      ]
     },
     "execution_count": 77,
     "metadata": {},
     "output_type": "execute_result"
    }
   ],
   "source": [
    "data.isnull().sum() # All null entries are removed"
   ]
  },
  {
   "cell_type": "code",
   "execution_count": 78,
   "id": "5ef1a207",
   "metadata": {},
   "outputs": [],
   "source": [
    "# Reviews has an incorrect data type. Convert to a numeric field."
   ]
  },
  {
   "cell_type": "code",
   "execution_count": 79,
   "id": "7a6de976",
   "metadata": {},
   "outputs": [
    {
     "data": {
      "text/plain": [
       "App                object\n",
       "Category           object\n",
       "Rating            float64\n",
       "Reviews            object\n",
       "Size              float64\n",
       "Installs           object\n",
       "Type               object\n",
       "Price              object\n",
       "Content Rating     object\n",
       "Genres             object\n",
       "Last Updated       object\n",
       "Current Ver        object\n",
       "Android Ver        object\n",
       "dtype: object"
      ]
     },
     "execution_count": 79,
     "metadata": {},
     "output_type": "execute_result"
    }
   ],
   "source": [
    "data.dtypes"
   ]
  },
  {
   "cell_type": "code",
   "execution_count": 80,
   "id": "6149b086",
   "metadata": {},
   "outputs": [],
   "source": [
    "data['Reviews']=data['Reviews'].astype('int')"
   ]
  },
  {
   "cell_type": "code",
   "execution_count": 81,
   "id": "8e0ec906",
   "metadata": {},
   "outputs": [],
   "source": [
    "# let's check if the change  has been done, now it's an int32"
   ]
  },
  {
   "cell_type": "code",
   "execution_count": 82,
   "id": "486bdf33",
   "metadata": {},
   "outputs": [
    {
     "data": {
      "text/plain": [
       "App                object\n",
       "Category           object\n",
       "Rating            float64\n",
       "Reviews             int32\n",
       "Size              float64\n",
       "Installs           object\n",
       "Type               object\n",
       "Price              object\n",
       "Content Rating     object\n",
       "Genres             object\n",
       "Last Updated       object\n",
       "Current Ver        object\n",
       "Android Ver        object\n",
       "dtype: object"
      ]
     },
     "execution_count": 82,
     "metadata": {},
     "output_type": "execute_result"
    }
   ],
   "source": [
    "data.dtypes"
   ]
  },
  {
   "cell_type": "code",
   "execution_count": 83,
   "id": "96233598",
   "metadata": {},
   "outputs": [],
   "source": [
    "# Installs field is currently stored as string and has values like 1,000,000+. \n",
    "# Treat 1,000,000+ as 1,000,000\n",
    "# remove ‘+’, ‘,’ from the field, convert it to integer\n"
   ]
  },
  {
   "cell_type": "code",
   "execution_count": 84,
   "id": "913c3002",
   "metadata": {},
   "outputs": [
    {
     "name": "stderr",
     "output_type": "stream",
     "text": [
      "C:\\Users\\KarimJabri\\AppData\\Local\\Temp\\ipykernel_2324\\1241127784.py:1: FutureWarning: The default value of regex will change from True to False in a future version.\n",
      "  data['Installs']=data['Installs'].str.replace('[+,]','')\n"
     ]
    }
   ],
   "source": [
    "data['Installs']=data['Installs'].str.replace('[+,]','')"
   ]
  },
  {
   "cell_type": "code",
   "execution_count": 85,
   "id": "8edd0da3",
   "metadata": {},
   "outputs": [
    {
     "data": {
      "text/html": [
       "<div>\n",
       "<style scoped>\n",
       "    .dataframe tbody tr th:only-of-type {\n",
       "        vertical-align: middle;\n",
       "    }\n",
       "\n",
       "    .dataframe tbody tr th {\n",
       "        vertical-align: top;\n",
       "    }\n",
       "\n",
       "    .dataframe thead th {\n",
       "        text-align: right;\n",
       "    }\n",
       "</style>\n",
       "<table border=\"1\" class=\"dataframe\">\n",
       "  <thead>\n",
       "    <tr style=\"text-align: right;\">\n",
       "      <th></th>\n",
       "      <th>App</th>\n",
       "      <th>Category</th>\n",
       "      <th>Rating</th>\n",
       "      <th>Reviews</th>\n",
       "      <th>Size</th>\n",
       "      <th>Installs</th>\n",
       "      <th>Type</th>\n",
       "      <th>Price</th>\n",
       "      <th>Content Rating</th>\n",
       "      <th>Genres</th>\n",
       "      <th>Last Updated</th>\n",
       "      <th>Current Ver</th>\n",
       "      <th>Android Ver</th>\n",
       "    </tr>\n",
       "  </thead>\n",
       "  <tbody>\n",
       "    <tr>\n",
       "      <th>0</th>\n",
       "      <td>Photo Editor &amp; Candy Camera &amp; Grid &amp; ScrapBook</td>\n",
       "      <td>ART_AND_DESIGN</td>\n",
       "      <td>4.1</td>\n",
       "      <td>159</td>\n",
       "      <td>19000.0</td>\n",
       "      <td>10000</td>\n",
       "      <td>Free</td>\n",
       "      <td>0</td>\n",
       "      <td>Everyone</td>\n",
       "      <td>Art &amp; Design</td>\n",
       "      <td>January 7, 2018</td>\n",
       "      <td>1.0.0</td>\n",
       "      <td>4.0.3 and up</td>\n",
       "    </tr>\n",
       "    <tr>\n",
       "      <th>1</th>\n",
       "      <td>Coloring book moana</td>\n",
       "      <td>ART_AND_DESIGN</td>\n",
       "      <td>3.9</td>\n",
       "      <td>967</td>\n",
       "      <td>14000.0</td>\n",
       "      <td>500000</td>\n",
       "      <td>Free</td>\n",
       "      <td>0</td>\n",
       "      <td>Everyone</td>\n",
       "      <td>Art &amp; Design;Pretend Play</td>\n",
       "      <td>January 15, 2018</td>\n",
       "      <td>2.0.0</td>\n",
       "      <td>4.0.3 and up</td>\n",
       "    </tr>\n",
       "    <tr>\n",
       "      <th>2</th>\n",
       "      <td>U Launcher Lite – FREE Live Cool Themes, Hide ...</td>\n",
       "      <td>ART_AND_DESIGN</td>\n",
       "      <td>4.7</td>\n",
       "      <td>87510</td>\n",
       "      <td>8700.0</td>\n",
       "      <td>5000000</td>\n",
       "      <td>Free</td>\n",
       "      <td>0</td>\n",
       "      <td>Everyone</td>\n",
       "      <td>Art &amp; Design</td>\n",
       "      <td>August 1, 2018</td>\n",
       "      <td>1.2.4</td>\n",
       "      <td>4.0.3 and up</td>\n",
       "    </tr>\n",
       "    <tr>\n",
       "      <th>3</th>\n",
       "      <td>Sketch - Draw &amp; Paint</td>\n",
       "      <td>ART_AND_DESIGN</td>\n",
       "      <td>4.5</td>\n",
       "      <td>215644</td>\n",
       "      <td>25000.0</td>\n",
       "      <td>50000000</td>\n",
       "      <td>Free</td>\n",
       "      <td>0</td>\n",
       "      <td>Teen</td>\n",
       "      <td>Art &amp; Design</td>\n",
       "      <td>June 8, 2018</td>\n",
       "      <td>Varies with device</td>\n",
       "      <td>4.2 and up</td>\n",
       "    </tr>\n",
       "    <tr>\n",
       "      <th>4</th>\n",
       "      <td>Pixel Draw - Number Art Coloring Book</td>\n",
       "      <td>ART_AND_DESIGN</td>\n",
       "      <td>4.3</td>\n",
       "      <td>967</td>\n",
       "      <td>2800.0</td>\n",
       "      <td>100000</td>\n",
       "      <td>Free</td>\n",
       "      <td>0</td>\n",
       "      <td>Everyone</td>\n",
       "      <td>Art &amp; Design;Creativity</td>\n",
       "      <td>June 20, 2018</td>\n",
       "      <td>1.1</td>\n",
       "      <td>4.4 and up</td>\n",
       "    </tr>\n",
       "  </tbody>\n",
       "</table>\n",
       "</div>"
      ],
      "text/plain": [
       "                                                 App        Category  Rating  \\\n",
       "0     Photo Editor & Candy Camera & Grid & ScrapBook  ART_AND_DESIGN     4.1   \n",
       "1                                Coloring book moana  ART_AND_DESIGN     3.9   \n",
       "2  U Launcher Lite – FREE Live Cool Themes, Hide ...  ART_AND_DESIGN     4.7   \n",
       "3                              Sketch - Draw & Paint  ART_AND_DESIGN     4.5   \n",
       "4              Pixel Draw - Number Art Coloring Book  ART_AND_DESIGN     4.3   \n",
       "\n",
       "   Reviews     Size  Installs  Type Price Content Rating  \\\n",
       "0      159  19000.0     10000  Free     0       Everyone   \n",
       "1      967  14000.0    500000  Free     0       Everyone   \n",
       "2    87510   8700.0   5000000  Free     0       Everyone   \n",
       "3   215644  25000.0  50000000  Free     0           Teen   \n",
       "4      967   2800.0    100000  Free     0       Everyone   \n",
       "\n",
       "                      Genres      Last Updated         Current Ver  \\\n",
       "0               Art & Design   January 7, 2018               1.0.0   \n",
       "1  Art & Design;Pretend Play  January 15, 2018               2.0.0   \n",
       "2               Art & Design    August 1, 2018               1.2.4   \n",
       "3               Art & Design      June 8, 2018  Varies with device   \n",
       "4    Art & Design;Creativity     June 20, 2018                 1.1   \n",
       "\n",
       "    Android Ver  \n",
       "0  4.0.3 and up  \n",
       "1  4.0.3 and up  \n",
       "2  4.0.3 and up  \n",
       "3    4.2 and up  \n",
       "4    4.4 and up  "
      ]
     },
     "execution_count": 85,
     "metadata": {},
     "output_type": "execute_result"
    }
   ],
   "source": [
    "data.head()"
   ]
  },
  {
   "cell_type": "code",
   "execution_count": 86,
   "id": "3029ad66",
   "metadata": {},
   "outputs": [],
   "source": [
    "# install needs to be converted into integer\n",
    "data['Installs']=data['Installs'].astype('int')"
   ]
  },
  {
   "cell_type": "code",
   "execution_count": 87,
   "id": "100eaa3f",
   "metadata": {},
   "outputs": [
    {
     "data": {
      "text/plain": [
       "App                object\n",
       "Category           object\n",
       "Rating            float64\n",
       "Reviews             int32\n",
       "Size              float64\n",
       "Installs            int32\n",
       "Type               object\n",
       "Price              object\n",
       "Content Rating     object\n",
       "Genres             object\n",
       "Last Updated       object\n",
       "Current Ver        object\n",
       "Android Ver        object\n",
       "dtype: object"
      ]
     },
     "execution_count": 87,
     "metadata": {},
     "output_type": "execute_result"
    }
   ],
   "source": [
    "data.dtypes"
   ]
  },
  {
   "cell_type": "code",
   "execution_count": 88,
   "id": "7bd9647d",
   "metadata": {},
   "outputs": [],
   "source": [
    "# Now Installs is int32"
   ]
  },
  {
   "cell_type": "code",
   "execution_count": 89,
   "id": "00b5d71f",
   "metadata": {},
   "outputs": [],
   "source": [
    "# remove the dollar sign from Price\n"
   ]
  },
  {
   "cell_type": "code",
   "execution_count": 90,
   "id": "2f708bcc",
   "metadata": {
    "scrolled": false
   },
   "outputs": [
    {
     "name": "stderr",
     "output_type": "stream",
     "text": [
      "C:\\Users\\KarimJabri\\AppData\\Local\\Temp\\ipykernel_2324\\1843015269.py:1: FutureWarning: The default value of regex will change from True to False in a future version. In addition, single character regular expressions will *not* be treated as literal strings when regex=True.\n",
      "  data['Price']=data['Price'].str.replace('$','')\n"
     ]
    }
   ],
   "source": [
    "data['Price']=data['Price'].str.replace('$','')"
   ]
  },
  {
   "cell_type": "code",
   "execution_count": 91,
   "id": "73ccf5af",
   "metadata": {},
   "outputs": [],
   "source": [
    "data['Price']=data['Price'].astype('float')"
   ]
  },
  {
   "cell_type": "code",
   "execution_count": 92,
   "id": "c8c50911",
   "metadata": {},
   "outputs": [
    {
     "data": {
      "text/plain": [
       "App                object\n",
       "Category           object\n",
       "Rating            float64\n",
       "Reviews             int32\n",
       "Size              float64\n",
       "Installs            int32\n",
       "Type               object\n",
       "Price             float64\n",
       "Content Rating     object\n",
       "Genres             object\n",
       "Last Updated       object\n",
       "Current Ver        object\n",
       "Android Ver        object\n",
       "dtype: object"
      ]
     },
     "execution_count": 92,
     "metadata": {},
     "output_type": "execute_result"
    }
   ],
   "source": [
    "data.dtypes"
   ]
  },
  {
   "cell_type": "code",
   "execution_count": null,
   "id": "b6f6dca4",
   "metadata": {},
   "outputs": [],
   "source": [
    "#Now Price is float64"
   ]
  },
  {
   "cell_type": "markdown",
   "id": "0644e79a",
   "metadata": {},
   "source": [
    "# Data Checks"
   ]
  },
  {
   "cell_type": "code",
   "execution_count": 30,
   "id": "bd9f97db",
   "metadata": {},
   "outputs": [],
   "source": [
    "# Check 1- Average rating should be between 1 and 5 as only these values \n",
    "# are allowed on the play store. \n",
    "# Drop the rows that have a value outside this range    "
   ]
  },
  {
   "cell_type": "code",
   "execution_count": 32,
   "id": "33c391d7",
   "metadata": {},
   "outputs": [
    {
     "data": {
      "text/html": [
       "<div>\n",
       "<style scoped>\n",
       "    .dataframe tbody tr th:only-of-type {\n",
       "        vertical-align: middle;\n",
       "    }\n",
       "\n",
       "    .dataframe tbody tr th {\n",
       "        vertical-align: top;\n",
       "    }\n",
       "\n",
       "    .dataframe thead th {\n",
       "        text-align: right;\n",
       "    }\n",
       "</style>\n",
       "<table border=\"1\" class=\"dataframe\">\n",
       "  <thead>\n",
       "    <tr style=\"text-align: right;\">\n",
       "      <th></th>\n",
       "      <th>App</th>\n",
       "      <th>Category</th>\n",
       "      <th>Rating</th>\n",
       "      <th>Reviews</th>\n",
       "      <th>Size</th>\n",
       "      <th>Installs</th>\n",
       "      <th>Type</th>\n",
       "      <th>Price</th>\n",
       "      <th>Content Rating</th>\n",
       "      <th>Genres</th>\n",
       "      <th>Last Updated</th>\n",
       "      <th>Current Ver</th>\n",
       "      <th>Android Ver</th>\n",
       "    </tr>\n",
       "  </thead>\n",
       "  <tbody>\n",
       "    <tr>\n",
       "      <th>0</th>\n",
       "      <td>Photo Editor &amp; Candy Camera &amp; Grid &amp; ScrapBook</td>\n",
       "      <td>ART_AND_DESIGN</td>\n",
       "      <td>4.1</td>\n",
       "      <td>159</td>\n",
       "      <td>19000.0</td>\n",
       "      <td>10000</td>\n",
       "      <td>Free</td>\n",
       "      <td>0.0</td>\n",
       "      <td>Everyone</td>\n",
       "      <td>Art &amp; Design</td>\n",
       "      <td>January 7, 2018</td>\n",
       "      <td>1.0.0</td>\n",
       "      <td>4.0.3 and up</td>\n",
       "    </tr>\n",
       "    <tr>\n",
       "      <th>1</th>\n",
       "      <td>Coloring book moana</td>\n",
       "      <td>ART_AND_DESIGN</td>\n",
       "      <td>3.9</td>\n",
       "      <td>967</td>\n",
       "      <td>14000.0</td>\n",
       "      <td>500000</td>\n",
       "      <td>Free</td>\n",
       "      <td>0.0</td>\n",
       "      <td>Everyone</td>\n",
       "      <td>Art &amp; Design;Pretend Play</td>\n",
       "      <td>January 15, 2018</td>\n",
       "      <td>2.0.0</td>\n",
       "      <td>4.0.3 and up</td>\n",
       "    </tr>\n",
       "    <tr>\n",
       "      <th>2</th>\n",
       "      <td>U Launcher Lite – FREE Live Cool Themes, Hide ...</td>\n",
       "      <td>ART_AND_DESIGN</td>\n",
       "      <td>4.7</td>\n",
       "      <td>87510</td>\n",
       "      <td>8700.0</td>\n",
       "      <td>5000000</td>\n",
       "      <td>Free</td>\n",
       "      <td>0.0</td>\n",
       "      <td>Everyone</td>\n",
       "      <td>Art &amp; Design</td>\n",
       "      <td>August 1, 2018</td>\n",
       "      <td>1.2.4</td>\n",
       "      <td>4.0.3 and up</td>\n",
       "    </tr>\n",
       "    <tr>\n",
       "      <th>3</th>\n",
       "      <td>Sketch - Draw &amp; Paint</td>\n",
       "      <td>ART_AND_DESIGN</td>\n",
       "      <td>4.5</td>\n",
       "      <td>215644</td>\n",
       "      <td>25000.0</td>\n",
       "      <td>50000000</td>\n",
       "      <td>Free</td>\n",
       "      <td>0.0</td>\n",
       "      <td>Teen</td>\n",
       "      <td>Art &amp; Design</td>\n",
       "      <td>June 8, 2018</td>\n",
       "      <td>Varies with device</td>\n",
       "      <td>4.2 and up</td>\n",
       "    </tr>\n",
       "    <tr>\n",
       "      <th>4</th>\n",
       "      <td>Pixel Draw - Number Art Coloring Book</td>\n",
       "      <td>ART_AND_DESIGN</td>\n",
       "      <td>4.3</td>\n",
       "      <td>967</td>\n",
       "      <td>2800.0</td>\n",
       "      <td>100000</td>\n",
       "      <td>Free</td>\n",
       "      <td>0.0</td>\n",
       "      <td>Everyone</td>\n",
       "      <td>Art &amp; Design;Creativity</td>\n",
       "      <td>June 20, 2018</td>\n",
       "      <td>1.1</td>\n",
       "      <td>4.4 and up</td>\n",
       "    </tr>\n",
       "  </tbody>\n",
       "</table>\n",
       "</div>"
      ],
      "text/plain": [
       "                                                 App        Category  Rating  \\\n",
       "0     Photo Editor & Candy Camera & Grid & ScrapBook  ART_AND_DESIGN     4.1   \n",
       "1                                Coloring book moana  ART_AND_DESIGN     3.9   \n",
       "2  U Launcher Lite – FREE Live Cool Themes, Hide ...  ART_AND_DESIGN     4.7   \n",
       "3                              Sketch - Draw & Paint  ART_AND_DESIGN     4.5   \n",
       "4              Pixel Draw - Number Art Coloring Book  ART_AND_DESIGN     4.3   \n",
       "\n",
       "  Reviews     Size  Installs  Type  Price Content Rating  \\\n",
       "0     159  19000.0     10000  Free    0.0       Everyone   \n",
       "1     967  14000.0    500000  Free    0.0       Everyone   \n",
       "2   87510   8700.0   5000000  Free    0.0       Everyone   \n",
       "3  215644  25000.0  50000000  Free    0.0           Teen   \n",
       "4     967   2800.0    100000  Free    0.0       Everyone   \n",
       "\n",
       "                      Genres      Last Updated         Current Ver  \\\n",
       "0               Art & Design   January 7, 2018               1.0.0   \n",
       "1  Art & Design;Pretend Play  January 15, 2018               2.0.0   \n",
       "2               Art & Design    August 1, 2018               1.2.4   \n",
       "3               Art & Design      June 8, 2018  Varies with device   \n",
       "4    Art & Design;Creativity     June 20, 2018                 1.1   \n",
       "\n",
       "    Android Ver  \n",
       "0  4.0.3 and up  \n",
       "1  4.0.3 and up  \n",
       "2  4.0.3 and up  \n",
       "3    4.2 and up  \n",
       "4    4.4 and up  "
      ]
     },
     "execution_count": 32,
     "metadata": {},
     "output_type": "execute_result"
    }
   ],
   "source": [
    "data.head()"
   ]
  },
  {
   "cell_type": "code",
   "execution_count": 18,
   "id": "1f142113",
   "metadata": {},
   "outputs": [
    {
     "data": {
      "text/plain": [
       "0        4.1\n",
       "1        3.9\n",
       "2        4.7\n",
       "3        4.5\n",
       "4        4.3\n",
       "        ... \n",
       "10834    4.0\n",
       "10836    4.5\n",
       "10837    5.0\n",
       "10839    4.5\n",
       "10840    4.5\n",
       "Name: Rating, Length: 9360, dtype: float64"
      ]
     },
     "execution_count": 18,
     "metadata": {},
     "output_type": "execute_result"
    }
   ],
   "source": [
    "data['Rating']"
   ]
  },
  {
   "cell_type": "code",
   "execution_count": 93,
   "id": "dd4f19d8",
   "metadata": {},
   "outputs": [
    {
     "data": {
      "text/plain": [
       "array([4.1, 3.9, 4.7, 4.5, 4.3, 4.4, 3.8, 4.2, 4.6, 4. , 4.8, 4.9, 3.6,\n",
       "       3.7, 3.2, 3.3, 3.4, 3.5, 3.1, 5. , 2.6, 3. , 1.9, 2.5, 2.8, 2.7,\n",
       "       1. , 2.9, 2.3, 2.2, 1.7, 2. , 1.8, 2.4, 1.6, 2.1, 1.4, 1.5, 1.2])"
      ]
     },
     "execution_count": 93,
     "metadata": {},
     "output_type": "execute_result"
    }
   ],
   "source": [
    "data['Rating'].unique()"
   ]
  },
  {
   "cell_type": "code",
   "execution_count": 97,
   "id": "06846a68",
   "metadata": {},
   "outputs": [
    {
     "data": {
      "text/plain": [
       "App               0.0\n",
       "Category          0.0\n",
       "Rating            0.0\n",
       "Reviews           0.0\n",
       "Size              0.0\n",
       "Installs          0.0\n",
       "Type              0.0\n",
       "Price             0.0\n",
       "Content Rating    0.0\n",
       "Genres            0.0\n",
       "Last Updated      0.0\n",
       "Current Ver       0.0\n",
       "Android Ver       0.0\n",
       "dtype: float64"
      ]
     },
     "execution_count": 97,
     "metadata": {},
     "output_type": "execute_result"
    }
   ],
   "source": [
    "# We could also use. No of rows where the condition is met\n",
    "data[(data['Rating']>5) | (data['Rating']<1)].sum()"
   ]
  },
  {
   "cell_type": "code",
   "execution_count": null,
   "id": "b473ec8f",
   "metadata": {},
   "outputs": [],
   "source": [
    "# All values are between 1 and 5"
   ]
  },
  {
   "cell_type": "code",
   "execution_count": null,
   "id": "12458a78",
   "metadata": {},
   "outputs": [],
   "source": [
    "# Check2- Reviews should not be more than installs as only those who installed can review the app. \n",
    "# If there are any such records, drop them."
   ]
  },
  {
   "cell_type": "code",
   "execution_count": 98,
   "id": "dbd51f8b",
   "metadata": {},
   "outputs": [
    {
     "data": {
      "text/plain": [
       "7"
      ]
     },
     "execution_count": 98,
     "metadata": {},
     "output_type": "execute_result"
    }
   ],
   "source": [
    "# let's check if we've got more reviews than installs\n",
    "np.sum(data['Reviews'] > data['Installs'])"
   ]
  },
  {
   "cell_type": "code",
   "execution_count": 99,
   "id": "62361824",
   "metadata": {},
   "outputs": [
    {
     "data": {
      "text/plain": [
       "9360"
      ]
     },
     "execution_count": 99,
     "metadata": {},
     "output_type": "execute_result"
    }
   ],
   "source": [
    "data['Reviews'].count()"
   ]
  },
  {
   "cell_type": "code",
   "execution_count": 100,
   "id": "e3a21a59",
   "metadata": {},
   "outputs": [
    {
     "data": {
      "text/plain": [
       "Int64Index([2454, 4663, 5917, 6700, 7402, 8591, 10697], dtype='int64')"
      ]
     },
     "execution_count": 100,
     "metadata": {},
     "output_type": "execute_result"
    }
   ],
   "source": [
    "data[data['Reviews'] > data['Installs']].index"
   ]
  },
  {
   "cell_type": "code",
   "execution_count": 101,
   "id": "a00d2903",
   "metadata": {},
   "outputs": [],
   "source": [
    "# We have to drop 7 rows \n",
    "data.drop(data[data['Reviews'] > data['Installs']].index, inplace = True)"
   ]
  },
  {
   "cell_type": "code",
   "execution_count": 102,
   "id": "a1cb7b9e",
   "metadata": {},
   "outputs": [
    {
     "data": {
      "text/plain": [
       "9353"
      ]
     },
     "execution_count": 102,
     "metadata": {},
     "output_type": "execute_result"
    }
   ],
   "source": [
    "# let's check if they have been dropped\n",
    "data['Reviews'].count()"
   ]
  },
  {
   "cell_type": "code",
   "execution_count": 103,
   "id": "15f62c46",
   "metadata": {},
   "outputs": [
    {
     "data": {
      "text/plain": [
       "0"
      ]
     },
     "execution_count": 103,
     "metadata": {},
     "output_type": "execute_result"
    }
   ],
   "source": [
    "# we've dropped all 7 rows\n",
    "np.sum(data['Reviews'] > data['Installs'])"
   ]
  },
  {
   "cell_type": "code",
   "execution_count": null,
   "id": "82a63547",
   "metadata": {},
   "outputs": [],
   "source": [
    "# Check 3- FREE PRICE should not be larger than zero"
   ]
  },
  {
   "cell_type": "code",
   "execution_count": 104,
   "id": "ef474421",
   "metadata": {},
   "outputs": [
    {
     "data": {
      "text/plain": [
       "0"
      ]
     },
     "execution_count": 104,
     "metadata": {},
     "output_type": "execute_result"
    }
   ],
   "source": [
    "np.sum((data['Type'] =='Free') & (data['Price']!=0))"
   ]
  },
  {
   "cell_type": "code",
   "execution_count": 44,
   "id": "bdeee6cc",
   "metadata": {},
   "outputs": [
    {
     "data": {
      "text/plain": [
       "App               0.0\n",
       "Category          0.0\n",
       "Rating            0.0\n",
       "Reviews           0.0\n",
       "Size              0.0\n",
       "Installs          0.0\n",
       "Type              0.0\n",
       "Price             0.0\n",
       "Content Rating    0.0\n",
       "Genres            0.0\n",
       "Last Updated      0.0\n",
       "Current Ver       0.0\n",
       "Android Ver       0.0\n",
       "dtype: float64"
      ]
     },
     "execution_count": 44,
     "metadata": {},
     "output_type": "execute_result"
    }
   ],
   "source": [
    "#No of cols where the condition is met\n",
    "data[(data.Type==\"Free\") & (data.Price!=0)].sum()"
   ]
  },
  {
   "cell_type": "code",
   "execution_count": 105,
   "id": "f785dc3f",
   "metadata": {},
   "outputs": [],
   "source": [
    "# there no values"
   ]
  },
  {
   "cell_type": "code",
   "execution_count": null,
   "id": "d620100c",
   "metadata": {},
   "outputs": [],
   "source": []
  },
  {
   "cell_type": "markdown",
   "id": "4937c20d",
   "metadata": {},
   "source": [
    "# Univariable Analysis"
   ]
  },
  {
   "cell_type": "code",
   "execution_count": 106,
   "id": "c0f891f6",
   "metadata": {},
   "outputs": [
    {
     "data": {
      "text/html": [
       "<div>\n",
       "<style scoped>\n",
       "    .dataframe tbody tr th:only-of-type {\n",
       "        vertical-align: middle;\n",
       "    }\n",
       "\n",
       "    .dataframe tbody tr th {\n",
       "        vertical-align: top;\n",
       "    }\n",
       "\n",
       "    .dataframe thead th {\n",
       "        text-align: right;\n",
       "    }\n",
       "</style>\n",
       "<table border=\"1\" class=\"dataframe\">\n",
       "  <thead>\n",
       "    <tr style=\"text-align: right;\">\n",
       "      <th></th>\n",
       "      <th>Rating</th>\n",
       "      <th>Reviews</th>\n",
       "      <th>Size</th>\n",
       "      <th>Installs</th>\n",
       "      <th>Price</th>\n",
       "    </tr>\n",
       "  </thead>\n",
       "  <tbody>\n",
       "    <tr>\n",
       "      <th>count</th>\n",
       "      <td>9353.000000</td>\n",
       "      <td>9.353000e+03</td>\n",
       "      <td>9353.000000</td>\n",
       "      <td>9.353000e+03</td>\n",
       "      <td>9353.000000</td>\n",
       "    </tr>\n",
       "    <tr>\n",
       "      <th>mean</th>\n",
       "      <td>4.191254</td>\n",
       "      <td>5.147606e+05</td>\n",
       "      <td>23147.924997</td>\n",
       "      <td>1.792215e+07</td>\n",
       "      <td>0.961467</td>\n",
       "    </tr>\n",
       "    <tr>\n",
       "      <th>std</th>\n",
       "      <td>0.515010</td>\n",
       "      <td>3.146169e+06</td>\n",
       "      <td>23252.056438</td>\n",
       "      <td>9.129920e+07</td>\n",
       "      <td>15.827539</td>\n",
       "    </tr>\n",
       "    <tr>\n",
       "      <th>min</th>\n",
       "      <td>1.000000</td>\n",
       "      <td>1.000000e+00</td>\n",
       "      <td>8.500000</td>\n",
       "      <td>5.000000e+00</td>\n",
       "      <td>0.000000</td>\n",
       "    </tr>\n",
       "    <tr>\n",
       "      <th>25%</th>\n",
       "      <td>4.000000</td>\n",
       "      <td>1.870000e+02</td>\n",
       "      <td>5500.000000</td>\n",
       "      <td>1.000000e+04</td>\n",
       "      <td>0.000000</td>\n",
       "    </tr>\n",
       "    <tr>\n",
       "      <th>50%</th>\n",
       "      <td>4.300000</td>\n",
       "      <td>5.967000e+03</td>\n",
       "      <td>15000.000000</td>\n",
       "      <td>5.000000e+05</td>\n",
       "      <td>0.000000</td>\n",
       "    </tr>\n",
       "    <tr>\n",
       "      <th>75%</th>\n",
       "      <td>4.500000</td>\n",
       "      <td>8.174700e+04</td>\n",
       "      <td>33000.000000</td>\n",
       "      <td>5.000000e+06</td>\n",
       "      <td>0.000000</td>\n",
       "    </tr>\n",
       "    <tr>\n",
       "      <th>max</th>\n",
       "      <td>5.000000</td>\n",
       "      <td>7.815831e+07</td>\n",
       "      <td>100000.000000</td>\n",
       "      <td>1.000000e+09</td>\n",
       "      <td>400.000000</td>\n",
       "    </tr>\n",
       "  </tbody>\n",
       "</table>\n",
       "</div>"
      ],
      "text/plain": [
       "            Rating       Reviews           Size      Installs        Price\n",
       "count  9353.000000  9.353000e+03    9353.000000  9.353000e+03  9353.000000\n",
       "mean      4.191254  5.147606e+05   23147.924997  1.792215e+07     0.961467\n",
       "std       0.515010  3.146169e+06   23252.056438  9.129920e+07    15.827539\n",
       "min       1.000000  1.000000e+00       8.500000  5.000000e+00     0.000000\n",
       "25%       4.000000  1.870000e+02    5500.000000  1.000000e+04     0.000000\n",
       "50%       4.300000  5.967000e+03   15000.000000  5.000000e+05     0.000000\n",
       "75%       4.500000  8.174700e+04   33000.000000  5.000000e+06     0.000000\n",
       "max       5.000000  7.815831e+07  100000.000000  1.000000e+09   400.000000"
      ]
     },
     "execution_count": 106,
     "metadata": {},
     "output_type": "execute_result"
    }
   ],
   "source": [
    "# let's describe the data\n",
    "data.describe()"
   ]
  },
  {
   "cell_type": "code",
   "execution_count": 187,
   "id": "94b781e4",
   "metadata": {},
   "outputs": [
    {
     "data": {
      "image/png": "[encoded data removed]",
      "text/plain": [
       "<Figure size 1080x576 with 1 Axes>"
      ]
     },
     "metadata": {},
     "output_type": "display_data"
    }
   ],
   "source": [
    "sns.boxplot(data.Price)\n",
    "import warnings\n",
    "warnings.filterwarnings(\"ignore\")"
   ]
  },
  {
   "cell_type": "code",
   "execution_count": null,
   "id": "5cd42687",
   "metadata": {},
   "outputs": [],
   "source": [
    "# we have many outliers. Some outliers seem suspitious especially those with a price of $300 and higher "
   ]
  },
  {
   "cell_type": "code",
   "execution_count": 188,
   "id": "3066a7e9",
   "metadata": {},
   "outputs": [
    {
     "data": {
      "text/plain": [
       "<AxesSubplot:xlabel='Reviews'>"
      ]
     },
     "execution_count": 188,
     "metadata": {},
     "output_type": "execute_result"
    },
    {
     "data": {
      "image/png": "[encoded data removed]",
      "text/plain": [
       "<Figure size 1080x576 with 1 Axes>"
      ]
     },
     "metadata": {},
     "output_type": "display_data"
    }
   ],
   "source": [
    "# Here we've got too many outliers as well which we will have to treat especiall those beyond the 2 million reviews\n",
    "sns.boxplot(data.Reviews)"
   ]
  },
  {
   "cell_type": "code",
   "execution_count": 189,
   "id": "8cecd798",
   "metadata": {},
   "outputs": [
    {
     "data": {
      "text/plain": [
       "<AxesSubplot:xlabel='Rating', ylabel='Count'>"
      ]
     },
     "execution_count": 189,
     "metadata": {},
     "output_type": "execute_result"
    },
    {
     "data": {
      "image/png": "[encoded data removed]",
      "text/plain": [
       "<Figure size 1080x576 with 1 Axes>"
      ]
     },
     "metadata": {},
     "output_type": "display_data"
    }
   ],
   "source": [
    "# Histogram for Rating\n",
    "sns.histplot(data.Rating)"
   ]
  },
  {
   "cell_type": "code",
   "execution_count": null,
   "id": "424e7add",
   "metadata": {},
   "outputs": [],
   "source": [
    "# Ratings seem to follow a nomal dist with a left skew.  The number of rating is higher between 4.0 and 4.7 ratings"
   ]
  },
  {
   "cell_type": "code",
   "execution_count": 190,
   "id": "9c9439d2",
   "metadata": {},
   "outputs": [
    {
     "data": {
      "text/plain": [
       "<AxesSubplot:xlabel='Size', ylabel='Count'>"
      ]
     },
     "execution_count": 190,
     "metadata": {},
     "output_type": "execute_result"
    },
    {
     "data": {
      "image/png": "[encoded data removed]",
      "text/plain": [
       "<Figure size 1080x576 with 1 Axes>"
      ]
     },
     "metadata": {},
     "output_type": "display_data"
    }
   ],
   "source": [
    "# Histogram for Size \n",
    "sns.histplot(data.Size)"
   ]
  },
  {
   "cell_type": "code",
   "execution_count": 44,
   "id": "dabf5be9",
   "metadata": {},
   "outputs": [],
   "source": [
    "# It resembles a Nor Dist with right skewness. We have a long tail which indicates the presence of outliers."
   ]
  },
  {
   "cell_type": "markdown",
   "id": "e21e452c",
   "metadata": {},
   "source": [
    "# Dealing with Outliers:\n"
   ]
  },
  {
   "cell_type": "code",
   "execution_count": 193,
   "id": "14b3fb7d",
   "metadata": {},
   "outputs": [
    {
     "data": {
      "text/plain": [
       "array([  0.  ,   0.99,   1.  ,   1.2 ,   1.29,   1.49,   1.5 ,   1.59,\n",
       "         1.61,   1.7 ,   1.75,   1.76,   1.97,   1.99,   2.  ,   2.49,\n",
       "         2.5 ,   2.56,   2.59,   2.9 ,   2.95,   2.99,   3.02,   3.04,\n",
       "         3.08,   3.28,   3.49,   3.88,   3.9 ,   3.95,   3.99,   4.29,\n",
       "         4.49,   4.59,   4.6 ,   4.77,   4.84,   4.99,   5.49,   5.99,\n",
       "         6.49,   6.99,   7.49,   7.99,   8.49,   8.99,   9.  ,   9.99,\n",
       "        10.  ,  10.99,  11.99,  12.99,  13.99,  14.  ,  14.99,  15.46,\n",
       "        15.99,  16.99,  17.99,  18.99,  19.4 ,  19.99,  24.99,  29.99,\n",
       "        33.99,  37.99,  39.99,  79.99, 299.99, 379.99, 389.99, 399.99,\n",
       "       400.  ])"
      ]
     },
     "execution_count": 193,
     "metadata": {},
     "output_type": "execute_result"
    }
   ],
   "source": [
    "# Let's check the unique prices\n",
    "data['Price'].sort_values().unique()"
   ]
  },
  {
   "cell_type": "code",
   "execution_count": 111,
   "id": "c3d758db",
   "metadata": {},
   "outputs": [],
   "source": [
    "# We will drop records with a price of 200 or higher. \n",
    "data1=data[data.Price<200].copy()"
   ]
  },
  {
   "cell_type": "code",
   "execution_count": 112,
   "id": "1ddff5ef",
   "metadata": {
    "scrolled": true
   },
   "outputs": [
    {
     "data": {
      "text/html": [
       "<div>\n",
       "<style scoped>\n",
       "    .dataframe tbody tr th:only-of-type {\n",
       "        vertical-align: middle;\n",
       "    }\n",
       "\n",
       "    .dataframe tbody tr th {\n",
       "        vertical-align: top;\n",
       "    }\n",
       "\n",
       "    .dataframe thead th {\n",
       "        text-align: right;\n",
       "    }\n",
       "</style>\n",
       "<table border=\"1\" class=\"dataframe\">\n",
       "  <thead>\n",
       "    <tr style=\"text-align: right;\">\n",
       "      <th></th>\n",
       "      <th>App</th>\n",
       "      <th>Category</th>\n",
       "      <th>Rating</th>\n",
       "      <th>Reviews</th>\n",
       "      <th>Size</th>\n",
       "      <th>Installs</th>\n",
       "      <th>Type</th>\n",
       "      <th>Price</th>\n",
       "      <th>Content Rating</th>\n",
       "      <th>Genres</th>\n",
       "      <th>Last Updated</th>\n",
       "      <th>Current Ver</th>\n",
       "      <th>Android Ver</th>\n",
       "    </tr>\n",
       "  </thead>\n",
       "  <tbody>\n",
       "    <tr>\n",
       "      <th>0</th>\n",
       "      <td>Photo Editor &amp; Candy Camera &amp; Grid &amp; ScrapBook</td>\n",
       "      <td>ART_AND_DESIGN</td>\n",
       "      <td>4.1</td>\n",
       "      <td>159</td>\n",
       "      <td>19000.0</td>\n",
       "      <td>10000</td>\n",
       "      <td>Free</td>\n",
       "      <td>0.0</td>\n",
       "      <td>Everyone</td>\n",
       "      <td>Art &amp; Design</td>\n",
       "      <td>January 7, 2018</td>\n",
       "      <td>1.0.0</td>\n",
       "      <td>4.0.3 and up</td>\n",
       "    </tr>\n",
       "    <tr>\n",
       "      <th>1</th>\n",
       "      <td>Coloring book moana</td>\n",
       "      <td>ART_AND_DESIGN</td>\n",
       "      <td>3.9</td>\n",
       "      <td>967</td>\n",
       "      <td>14000.0</td>\n",
       "      <td>500000</td>\n",
       "      <td>Free</td>\n",
       "      <td>0.0</td>\n",
       "      <td>Everyone</td>\n",
       "      <td>Art &amp; Design;Pretend Play</td>\n",
       "      <td>January 15, 2018</td>\n",
       "      <td>2.0.0</td>\n",
       "      <td>4.0.3 and up</td>\n",
       "    </tr>\n",
       "    <tr>\n",
       "      <th>2</th>\n",
       "      <td>U Launcher Lite – FREE Live Cool Themes, Hide ...</td>\n",
       "      <td>ART_AND_DESIGN</td>\n",
       "      <td>4.7</td>\n",
       "      <td>87510</td>\n",
       "      <td>8700.0</td>\n",
       "      <td>5000000</td>\n",
       "      <td>Free</td>\n",
       "      <td>0.0</td>\n",
       "      <td>Everyone</td>\n",
       "      <td>Art &amp; Design</td>\n",
       "      <td>August 1, 2018</td>\n",
       "      <td>1.2.4</td>\n",
       "      <td>4.0.3 and up</td>\n",
       "    </tr>\n",
       "    <tr>\n",
       "      <th>3</th>\n",
       "      <td>Sketch - Draw &amp; Paint</td>\n",
       "      <td>ART_AND_DESIGN</td>\n",
       "      <td>4.5</td>\n",
       "      <td>215644</td>\n",
       "      <td>25000.0</td>\n",
       "      <td>50000000</td>\n",
       "      <td>Free</td>\n",
       "      <td>0.0</td>\n",
       "      <td>Teen</td>\n",
       "      <td>Art &amp; Design</td>\n",
       "      <td>June 8, 2018</td>\n",
       "      <td>Varies with device</td>\n",
       "      <td>4.2 and up</td>\n",
       "    </tr>\n",
       "    <tr>\n",
       "      <th>4</th>\n",
       "      <td>Pixel Draw - Number Art Coloring Book</td>\n",
       "      <td>ART_AND_DESIGN</td>\n",
       "      <td>4.3</td>\n",
       "      <td>967</td>\n",
       "      <td>2800.0</td>\n",
       "      <td>100000</td>\n",
       "      <td>Free</td>\n",
       "      <td>0.0</td>\n",
       "      <td>Everyone</td>\n",
       "      <td>Art &amp; Design;Creativity</td>\n",
       "      <td>June 20, 2018</td>\n",
       "      <td>1.1</td>\n",
       "      <td>4.4 and up</td>\n",
       "    </tr>\n",
       "  </tbody>\n",
       "</table>\n",
       "</div>"
      ],
      "text/plain": [
       "                                                 App        Category  Rating  \\\n",
       "0     Photo Editor & Candy Camera & Grid & ScrapBook  ART_AND_DESIGN     4.1   \n",
       "1                                Coloring book moana  ART_AND_DESIGN     3.9   \n",
       "2  U Launcher Lite – FREE Live Cool Themes, Hide ...  ART_AND_DESIGN     4.7   \n",
       "3                              Sketch - Draw & Paint  ART_AND_DESIGN     4.5   \n",
       "4              Pixel Draw - Number Art Coloring Book  ART_AND_DESIGN     4.3   \n",
       "\n",
       "   Reviews     Size  Installs  Type  Price Content Rating  \\\n",
       "0      159  19000.0     10000  Free    0.0       Everyone   \n",
       "1      967  14000.0    500000  Free    0.0       Everyone   \n",
       "2    87510   8700.0   5000000  Free    0.0       Everyone   \n",
       "3   215644  25000.0  50000000  Free    0.0           Teen   \n",
       "4      967   2800.0    100000  Free    0.0       Everyone   \n",
       "\n",
       "                      Genres      Last Updated         Current Ver  \\\n",
       "0               Art & Design   January 7, 2018               1.0.0   \n",
       "1  Art & Design;Pretend Play  January 15, 2018               2.0.0   \n",
       "2               Art & Design    August 1, 2018               1.2.4   \n",
       "3               Art & Design      June 8, 2018  Varies with device   \n",
       "4    Art & Design;Creativity     June 20, 2018                 1.1   \n",
       "\n",
       "    Android Ver  \n",
       "0  4.0.3 and up  \n",
       "1  4.0.3 and up  \n",
       "2  4.0.3 and up  \n",
       "3    4.2 and up  \n",
       "4    4.4 and up  "
      ]
     },
     "execution_count": 112,
     "metadata": {},
     "output_type": "execute_result"
    }
   ],
   "source": [
    "data1.head()"
   ]
  },
  {
   "cell_type": "code",
   "execution_count": null,
   "id": "6012d462",
   "metadata": {},
   "outputs": [],
   "source": [
    "# Drop records having more than 2 million reviews."
   ]
  },
  {
   "cell_type": "code",
   "execution_count": 113,
   "id": "3563220a",
   "metadata": {},
   "outputs": [
    {
     "data": {
      "text/plain": [
       "453"
      ]
     },
     "execution_count": 113,
     "metadata": {},
     "output_type": "execute_result"
    }
   ],
   "source": [
    "np.sum(data1['Reviews']>2000000)"
   ]
  },
  {
   "cell_type": "code",
   "execution_count": 114,
   "id": "e6af4cb4",
   "metadata": {},
   "outputs": [],
   "source": [
    "data1.drop(data1[data1['Reviews'] >2000000].index, inplace=True)"
   ]
  },
  {
   "cell_type": "code",
   "execution_count": 115,
   "id": "503a87a0",
   "metadata": {},
   "outputs": [
    {
     "data": {
      "text/plain": [
       "0"
      ]
     },
     "execution_count": 115,
     "metadata": {},
     "output_type": "execute_result"
    }
   ],
   "source": [
    "# the outcome should be zero\n",
    "np.sum(data1['Reviews']>2000000)"
   ]
  },
  {
   "cell_type": "code",
   "execution_count": null,
   "id": "61dc49de",
   "metadata": {},
   "outputs": [],
   "source": [
    "# There seems to be some outliers in 'Installs'. we'll drop Apps having very high number of installs."
   ]
  },
  {
   "cell_type": "code",
   "execution_count": 116,
   "id": "e4c8cb7f",
   "metadata": {},
   "outputs": [
    {
     "data": {
      "text/plain": [
       "0.10         1000.0\n",
       "0.25        10000.0\n",
       "0.50       500000.0\n",
       "0.70      1000000.0\n",
       "0.90     10000000.0\n",
       "0.95     10000000.0\n",
       "0.99    100000000.0\n",
       "Name: Installs, dtype: float64"
      ]
     },
     "execution_count": 116,
     "metadata": {},
     "output_type": "execute_result"
    }
   ],
   "source": [
    "# Let's find out the different percentiles – 10, 25, 50, 70, 90, 95, 99\n",
    "data1['Installs'].quantile([0.1, 0.25,0.5,0.70,0.9,0.95,0.99])"
   ]
  },
  {
   "cell_type": "code",
   "execution_count": 117,
   "id": "0f55cf38",
   "metadata": {},
   "outputs": [
    {
     "data": {
      "text/plain": [
       "389"
      ]
     },
     "execution_count": 117,
     "metadata": {},
     "output_type": "execute_result"
    }
   ],
   "source": [
    "# we'll make the cutoff on 95% and drop the rest\n",
    "np.sum(data1['Installs'] >10000000)"
   ]
  },
  {
   "cell_type": "code",
   "execution_count": 118,
   "id": "eec94b64",
   "metadata": {},
   "outputs": [],
   "source": [
    "data1.drop(data1[data1['Installs'] >10000000].index, inplace=True)"
   ]
  },
  {
   "cell_type": "code",
   "execution_count": 119,
   "id": "05fec3c2",
   "metadata": {},
   "outputs": [
    {
     "data": {
      "text/plain": [
       "0"
      ]
     },
     "execution_count": 119,
     "metadata": {},
     "output_type": "execute_result"
    }
   ],
   "source": [
    "# the outcome should be zero\n",
    "np.sum(data1['Installs'] >10000000)"
   ]
  },
  {
   "cell_type": "markdown",
   "id": "90e19fa6",
   "metadata": {},
   "source": [
    "# Bivariate analysis:"
   ]
  },
  {
   "cell_type": "code",
   "execution_count": 82,
   "id": "19577cae",
   "metadata": {},
   "outputs": [],
   "source": [
    "# assessment of the relations between rating and the other features"
   ]
  },
  {
   "cell_type": "code",
   "execution_count": 90,
   "id": "23903ea5",
   "metadata": {},
   "outputs": [
    {
     "data": {
      "image/png": "[encoded data removed]",
      "text/plain": [
       "<Figure size 864x720 with 1 Axes>"
      ]
     },
     "metadata": {
      "needs_background": "light"
     },
     "output_type": "display_data"
    }
   ],
   "source": [
    "# Make scatter plot/joinplot for Rating vs. Price\n",
    "plt.figure(figsize=[12,10])\n",
    "plt.scatter(x=data1.Rating, y=data1.Price,s=80,color='r')\n",
    "plt.xlabel('Rating')\n",
    "plt.ylabel('Price')\n",
    "plt.title('Rating vs Price')\n",
    "plt.grid()\n",
    "plt.show()"
   ]
  },
  {
   "cell_type": "code",
   "execution_count": null,
   "id": "10046e8a",
   "metadata": {},
   "outputs": [],
   "source": [
    "# The rating seem to slighly increase with the price, Although most high rating fall within prices between $0-$10"
   ]
  },
  {
   "cell_type": "code",
   "execution_count": 121,
   "id": "c01866f5",
   "metadata": {},
   "outputs": [
    {
     "data": {
      "image/png": "[encoded data removed]",
      "text/plain": [
       "<Figure size 864x720 with 1 Axes>"
      ]
     },
     "metadata": {
      "needs_background": "light"
     },
     "output_type": "display_data"
    }
   ],
   "source": [
    "# Make scatter plot/joinplot for Rating vs. Size\n",
    "plt.figure(figsize=[12,10])\n",
    "plt.scatter(x=data1.Rating, y=data1.Size,s=80,color='b')\n",
    "plt.xlabel('Rating')\n",
    "plt.ylabel('Size')\n",
    "plt.title('Rating vs Size')\n",
    "plt.grid()\n",
    "plt.show()"
   ]
  },
  {
   "cell_type": "code",
   "execution_count": null,
   "id": "b310c8bd",
   "metadata": {},
   "outputs": [],
   "source": [
    "# Interestingly, heavier apps seem to be better rated ."
   ]
  },
  {
   "cell_type": "code",
   "execution_count": 197,
   "id": "62d4a975",
   "metadata": {},
   "outputs": [
    {
     "data": {
      "image/png": "[encoded data removed]",
      "text/plain": [
       "<Figure size 864x720 with 1 Axes>"
      ]
     },
     "metadata": {},
     "output_type": "display_data"
    }
   ],
   "source": [
    "# Make scatter plot/joinplot for Rating vs. Reviews\n",
    "plt.figure(figsize=[12,10])\n",
    "plt.scatter(x=data1.Rating, y=data1.Reviews,s=80,color='g')\n",
    "plt.xlabel('Rating')\n",
    "plt.ylabel('Reviews')\n",
    "plt.title('Rating vs Reviews')\n",
    "plt.grid()\n",
    "plt.show()"
   ]
  },
  {
   "cell_type": "code",
   "execution_count": null,
   "id": "25a5f79c",
   "metadata": {},
   "outputs": [],
   "source": [
    "# There is a relationship between the Rating and the number if reviews. High rated Apps had the most reviews"
   ]
  },
  {
   "cell_type": "code",
   "execution_count": 123,
   "id": "1dc9054e",
   "metadata": {},
   "outputs": [
    {
     "data": {
      "text/plain": [
       "<AxesSubplot:xlabel='Rating', ylabel='Content Rating'>"
      ]
     },
     "execution_count": 123,
     "metadata": {},
     "output_type": "execute_result"
    },
    {
     "data": {
      "image/png": "[encoded data removed]",
      "text/plain": [
       "<Figure size 864x720 with 1 Axes>"
      ]
     },
     "metadata": {
      "needs_background": "light"
     },
     "output_type": "display_data"
    }
   ],
   "source": [
    "# Make boxplot for Rating vs. Content Rating\n",
    "plt.figure(figsize=[12,10])\n",
    "sns.boxplot(x = 'Rating', y = 'Content Rating', data = data1)"
   ]
  },
  {
   "cell_type": "code",
   "execution_count": null,
   "id": "b1c115da",
   "metadata": {},
   "outputs": [],
   "source": [
    "# Apps with 'Adults only 18+' seem to have higher rating than the rest.\n"
   ]
  },
  {
   "cell_type": "code",
   "execution_count": 124,
   "id": "f5c5d16b",
   "metadata": {},
   "outputs": [
    {
     "data": {
      "text/plain": [
       "<AxesSubplot:xlabel='Rating', ylabel='Category'>"
      ]
     },
     "execution_count": 124,
     "metadata": {},
     "output_type": "execute_result"
    },
    {
     "data": {
      "image/png": "[encoded data removed]",
      "text/plain": [
       "<Figure size 864x720 with 1 Axes>"
      ]
     },
     "metadata": {
      "needs_background": "light"
     },
     "output_type": "display_data"
    }
   ],
   "source": [
    "# Make boxplot for Ratings vs. Category\n",
    "plt.figure(figsize=[12,10])\n",
    "sns.boxplot(x = 'Rating', y = 'Category', data = data1)"
   ]
  },
  {
   "cell_type": "code",
   "execution_count": 125,
   "id": "724b764b",
   "metadata": {},
   "outputs": [],
   "source": [
    "# Generes such Art&Design, Parenting,Entertainment seem to be better rated than the rest"
   ]
  },
  {
   "cell_type": "markdown",
   "id": "4f6eff5e",
   "metadata": {},
   "source": [
    "# Data preprocessing:"
   ]
  },
  {
   "cell_type": "code",
   "execution_count": 126,
   "id": "8d9b25dc",
   "metadata": {},
   "outputs": [],
   "source": [
    "inp1=data1.copy()"
   ]
  },
  {
   "cell_type": "code",
   "execution_count": 127,
   "id": "155958c2",
   "metadata": {},
   "outputs": [],
   "source": [
    "# Apply log transformation (np.log1p) to Reviews and Installs.\n",
    "inp1['Reviews']=np.log1p(inp1['Reviews'])\n",
    "inp1['Installs']=np.log1p(inp1['Installs'])"
   ]
  },
  {
   "cell_type": "code",
   "execution_count": 128,
   "id": "5727fc95",
   "metadata": {},
   "outputs": [
    {
     "data": {
      "text/plain": [
       "0           10000\n",
       "1          500000\n",
       "2         5000000\n",
       "4          100000\n",
       "5           50000\n",
       "           ...   \n",
       "10834         500\n",
       "10836        5000\n",
       "10837         100\n",
       "10839        1000\n",
       "10840    10000000\n",
       "Name: Installs, Length: 8496, dtype: int32"
      ]
     },
     "execution_count": 128,
     "metadata": {},
     "output_type": "execute_result"
    }
   ],
   "source": [
    "# Reviews before the log function\n",
    "data1['Installs']"
   ]
  },
  {
   "cell_type": "code",
   "execution_count": 129,
   "id": "e4795642",
   "metadata": {},
   "outputs": [
    {
     "data": {
      "text/plain": [
       "0         9.210440\n",
       "1        13.122365\n",
       "2        15.424949\n",
       "4        11.512935\n",
       "5        10.819798\n",
       "           ...    \n",
       "10834     6.216606\n",
       "10836     8.517393\n",
       "10837     4.615121\n",
       "10839     6.908755\n",
       "10840    16.118096\n",
       "Name: Installs, Length: 8496, dtype: float64"
      ]
     },
     "execution_count": 129,
     "metadata": {},
     "output_type": "execute_result"
    }
   ],
   "source": [
    "# Reviews after the log function\n",
    "inp1['Installs']"
   ]
  },
  {
   "cell_type": "code",
   "execution_count": 130,
   "id": "c129696f",
   "metadata": {},
   "outputs": [
    {
     "data": {
      "text/plain": [
       "0           159\n",
       "1           967\n",
       "2         87510\n",
       "4           967\n",
       "5           167\n",
       "          ...  \n",
       "10834         7\n",
       "10836        38\n",
       "10837         4\n",
       "10839       114\n",
       "10840    398307\n",
       "Name: Reviews, Length: 8496, dtype: int32"
      ]
     },
     "execution_count": 130,
     "metadata": {},
     "output_type": "execute_result"
    }
   ],
   "source": [
    "# Reviews before the log function\n",
    "data1['Reviews']"
   ]
  },
  {
   "cell_type": "code",
   "execution_count": 98,
   "id": "63ae2fb1",
   "metadata": {},
   "outputs": [
    {
     "data": {
      "text/plain": [
       "0         5.075174\n",
       "1         6.875232\n",
       "2        11.379520\n",
       "4         6.875232\n",
       "5         5.123964\n",
       "           ...    \n",
       "10834     2.079442\n",
       "10836     3.663562\n",
       "10837     1.609438\n",
       "10839     4.744932\n",
       "10840    12.894981\n",
       "Name: Reviews, Length: 8496, dtype: float64"
      ]
     },
     "execution_count": 98,
     "metadata": {},
     "output_type": "execute_result"
    }
   ],
   "source": [
    "# Reviews after the log function\n",
    "inp1['Reviews']"
   ]
  },
  {
   "cell_type": "code",
   "execution_count": 131,
   "id": "899c498f",
   "metadata": {},
   "outputs": [],
   "source": [
    "# Drop columns App, Last Updated, Current Ver, and Android Ver. These variables are not useful for our task.\n",
    "inp1=inp1.drop(['App','Last Updated','Current Ver','Android Ver'],axis=1).copy() "
   ]
  },
  {
   "cell_type": "code",
   "execution_count": 132,
   "id": "742c80a4",
   "metadata": {},
   "outputs": [
    {
     "data": {
      "text/plain": [
       "(8496, 13)"
      ]
     },
     "execution_count": 132,
     "metadata": {},
     "output_type": "execute_result"
    }
   ],
   "source": [
    "data1.shape"
   ]
  },
  {
   "cell_type": "code",
   "execution_count": 133,
   "id": "b07c69dc",
   "metadata": {},
   "outputs": [
    {
     "data": {
      "text/plain": [
       "(8496, 9)"
      ]
     },
     "execution_count": 133,
     "metadata": {},
     "output_type": "execute_result"
    }
   ],
   "source": [
    "# four cols have been removed\n",
    "inp1.shape"
   ]
  },
  {
   "cell_type": "code",
   "execution_count": 155,
   "id": "10c78734",
   "metadata": {},
   "outputs": [],
   "source": [
    "# Name of dataframe should be inp2.\n",
    "inp2=inp1.copy()"
   ]
  },
  {
   "cell_type": "code",
   "execution_count": 156,
   "id": "ce98b06b",
   "metadata": {},
   "outputs": [
    {
     "data": {
      "text/html": [
       "<div>\n",
       "<style scoped>\n",
       "    .dataframe tbody tr th:only-of-type {\n",
       "        vertical-align: middle;\n",
       "    }\n",
       "\n",
       "    .dataframe tbody tr th {\n",
       "        vertical-align: top;\n",
       "    }\n",
       "\n",
       "    .dataframe thead th {\n",
       "        text-align: right;\n",
       "    }\n",
       "</style>\n",
       "<table border=\"1\" class=\"dataframe\">\n",
       "  <thead>\n",
       "    <tr style=\"text-align: right;\">\n",
       "      <th></th>\n",
       "      <th>Category</th>\n",
       "      <th>Rating</th>\n",
       "      <th>Reviews</th>\n",
       "      <th>Size</th>\n",
       "      <th>Installs</th>\n",
       "      <th>Type</th>\n",
       "      <th>Price</th>\n",
       "      <th>Content Rating</th>\n",
       "      <th>Genres</th>\n",
       "    </tr>\n",
       "  </thead>\n",
       "  <tbody>\n",
       "    <tr>\n",
       "      <th>0</th>\n",
       "      <td>ART_AND_DESIGN</td>\n",
       "      <td>4.1</td>\n",
       "      <td>5.075174</td>\n",
       "      <td>19000.0</td>\n",
       "      <td>9.210440</td>\n",
       "      <td>Free</td>\n",
       "      <td>0.0</td>\n",
       "      <td>Everyone</td>\n",
       "      <td>Art &amp; Design</td>\n",
       "    </tr>\n",
       "    <tr>\n",
       "      <th>1</th>\n",
       "      <td>ART_AND_DESIGN</td>\n",
       "      <td>3.9</td>\n",
       "      <td>6.875232</td>\n",
       "      <td>14000.0</td>\n",
       "      <td>13.122365</td>\n",
       "      <td>Free</td>\n",
       "      <td>0.0</td>\n",
       "      <td>Everyone</td>\n",
       "      <td>Art &amp; Design;Pretend Play</td>\n",
       "    </tr>\n",
       "    <tr>\n",
       "      <th>2</th>\n",
       "      <td>ART_AND_DESIGN</td>\n",
       "      <td>4.7</td>\n",
       "      <td>11.379520</td>\n",
       "      <td>8700.0</td>\n",
       "      <td>15.424949</td>\n",
       "      <td>Free</td>\n",
       "      <td>0.0</td>\n",
       "      <td>Everyone</td>\n",
       "      <td>Art &amp; Design</td>\n",
       "    </tr>\n",
       "    <tr>\n",
       "      <th>4</th>\n",
       "      <td>ART_AND_DESIGN</td>\n",
       "      <td>4.3</td>\n",
       "      <td>6.875232</td>\n",
       "      <td>2800.0</td>\n",
       "      <td>11.512935</td>\n",
       "      <td>Free</td>\n",
       "      <td>0.0</td>\n",
       "      <td>Everyone</td>\n",
       "      <td>Art &amp; Design;Creativity</td>\n",
       "    </tr>\n",
       "    <tr>\n",
       "      <th>5</th>\n",
       "      <td>ART_AND_DESIGN</td>\n",
       "      <td>4.4</td>\n",
       "      <td>5.123964</td>\n",
       "      <td>5600.0</td>\n",
       "      <td>10.819798</td>\n",
       "      <td>Free</td>\n",
       "      <td>0.0</td>\n",
       "      <td>Everyone</td>\n",
       "      <td>Art &amp; Design</td>\n",
       "    </tr>\n",
       "  </tbody>\n",
       "</table>\n",
       "</div>"
      ],
      "text/plain": [
       "         Category  Rating    Reviews     Size   Installs  Type  Price  \\\n",
       "0  ART_AND_DESIGN     4.1   5.075174  19000.0   9.210440  Free    0.0   \n",
       "1  ART_AND_DESIGN     3.9   6.875232  14000.0  13.122365  Free    0.0   \n",
       "2  ART_AND_DESIGN     4.7  11.379520   8700.0  15.424949  Free    0.0   \n",
       "4  ART_AND_DESIGN     4.3   6.875232   2800.0  11.512935  Free    0.0   \n",
       "5  ART_AND_DESIGN     4.4   5.123964   5600.0  10.819798  Free    0.0   \n",
       "\n",
       "  Content Rating                     Genres  \n",
       "0       Everyone               Art & Design  \n",
       "1       Everyone  Art & Design;Pretend Play  \n",
       "2       Everyone               Art & Design  \n",
       "4       Everyone    Art & Design;Creativity  \n",
       "5       Everyone               Art & Design  "
      ]
     },
     "execution_count": 156,
     "metadata": {},
     "output_type": "execute_result"
    }
   ],
   "source": [
    "inp2.head()"
   ]
  },
  {
   "cell_type": "code",
   "execution_count": 157,
   "id": "02f8a062",
   "metadata": {},
   "outputs": [],
   "source": [
    "# Get dummy columns for Category, Genres, and Content Rating and Type\n",
    "inp2=pd.get_dummies(inp2, columns = ['Category', 'Genres', 'Content Rating', 'Type'])"
   ]
  },
  {
   "cell_type": "code",
   "execution_count": 158,
   "id": "77ffd064",
   "metadata": {},
   "outputs": [
    {
     "data": {
      "text/plain": [
       "(8496, 161)"
      ]
     },
     "execution_count": 158,
     "metadata": {},
     "output_type": "execute_result"
    }
   ],
   "source": [
    "inp2.shape"
   ]
  },
  {
   "cell_type": "code",
   "execution_count": 159,
   "id": "a724aabf",
   "metadata": {},
   "outputs": [],
   "source": [
    "# Train test split  and apply 70-30 split.Name the new dataframes df_train and df_test.\n",
    "from sklearn.model_selection import train_test_split\n",
    "df_train, df_test=train_test_split(inp2,test_size=0.3,random_state=5)"
   ]
  },
  {
   "cell_type": "code",
   "execution_count": 160,
   "id": "6255ea3c",
   "metadata": {},
   "outputs": [
    {
     "data": {
      "text/plain": [
       "(5947, 161)"
      ]
     },
     "execution_count": 160,
     "metadata": {},
     "output_type": "execute_result"
    }
   ],
   "source": [
    "df_train.shape"
   ]
  },
  {
   "cell_type": "code",
   "execution_count": 161,
   "id": "69ace33e",
   "metadata": {},
   "outputs": [
    {
     "data": {
      "text/plain": [
       "(2549, 161)"
      ]
     },
     "execution_count": 161,
     "metadata": {},
     "output_type": "execute_result"
    }
   ],
   "source": [
    "df_test.shape"
   ]
  },
  {
   "cell_type": "code",
   "execution_count": 162,
   "id": "552057d8",
   "metadata": {},
   "outputs": [],
   "source": [
    "#  Separate the dataframes into X_train, y_train, X_test, and y_test.\n",
    "y_train=df_train.pop('Rating') \n",
    "x_train=df_train"
   ]
  },
  {
   "cell_type": "code",
   "execution_count": 163,
   "id": "27f96647",
   "metadata": {},
   "outputs": [
    {
     "data": {
      "text/plain": [
       "9788    4.7\n",
       "786     4.4\n",
       "8880    4.6\n",
       "1839    4.6\n",
       "2105    4.2\n",
       "       ... \n",
       "9223    3.5\n",
       "3727    4.3\n",
       "5024    4.4\n",
       "2736    4.1\n",
       "3568    4.1\n",
       "Name: Rating, Length: 5947, dtype: float64"
      ]
     },
     "execution_count": 163,
     "metadata": {},
     "output_type": "execute_result"
    }
   ],
   "source": [
    "x_train\n",
    "y_train"
   ]
  },
  {
   "cell_type": "code",
   "execution_count": 164,
   "id": "b4989780",
   "metadata": {},
   "outputs": [],
   "source": [
    "y_test=df_test.pop('Rating')\n",
    "x_test=df_test"
   ]
  },
  {
   "cell_type": "code",
   "execution_count": 165,
   "id": "0796cc50",
   "metadata": {},
   "outputs": [
    {
     "data": {
      "text/plain": [
       "10720    4.4\n",
       "8766     4.4\n",
       "601      3.9\n",
       "5018     3.9\n",
       "2365     4.6\n",
       "        ... \n",
       "10440    4.5\n",
       "4195     4.2\n",
       "6206     4.3\n",
       "9114     4.2\n",
       "8897     4.6\n",
       "Name: Rating, Length: 2549, dtype: float64"
      ]
     },
     "execution_count": 165,
     "metadata": {},
     "output_type": "execute_result"
    }
   ],
   "source": [
    "x_test\n",
    "y_test"
   ]
  },
  {
   "cell_type": "markdown",
   "id": "879c530b",
   "metadata": {},
   "source": [
    "#  Model building:"
   ]
  },
  {
   "cell_type": "code",
   "execution_count": 166,
   "id": "53d7ecad",
   "metadata": {},
   "outputs": [],
   "source": [
    "# Use linear regression\n",
    "from sklearn.linear_model import LinearRegression\n",
    "linear_reg=LinearRegression() # object\n"
   ]
  },
  {
   "cell_type": "code",
   "execution_count": 167,
   "id": "e7c54b34",
   "metadata": {},
   "outputs": [
    {
     "data": {
      "text/plain": [
       "Rating                       float64\n",
       "Reviews                      float64\n",
       "Size                         float64\n",
       "Installs                     float64\n",
       "Price                        float64\n",
       "                              ...   \n",
       "Content Rating_Mature 17+      uint8\n",
       "Content Rating_Teen            uint8\n",
       "Content Rating_Unrated         uint8\n",
       "Type_Free                      uint8\n",
       "Type_Paid                      uint8\n",
       "Length: 161, dtype: object"
      ]
     },
     "execution_count": 167,
     "metadata": {},
     "output_type": "execute_result"
    }
   ],
   "source": [
    "inp2.dtypes"
   ]
  },
  {
   "cell_type": "code",
   "execution_count": 173,
   "id": "d897a838",
   "metadata": {},
   "outputs": [
    {
     "data": {
      "text/plain": [
       "LinearRegression()"
      ]
     },
     "execution_count": 173,
     "metadata": {},
     "output_type": "execute_result"
    }
   ],
   "source": [
    "# Give training\n",
    "linear_reg.fit(x_train,y_train)"
   ]
  },
  {
   "cell_type": "code",
   "execution_count": 174,
   "id": "c9225f3e",
   "metadata": {},
   "outputs": [],
   "source": [
    "#let's define a variable y for predictions\n",
    "y_pred=linear_reg.predict(x_test)"
   ]
  },
  {
   "cell_type": "code",
   "execution_count": 178,
   "id": "39e6e6f1",
   "metadata": {},
   "outputs": [
    {
     "name": "stdout",
     "output_type": "stream",
     "text": [
      "0.14322233174531762\n"
     ]
    }
   ],
   "source": [
    "# Report the R2 on the train set\n",
    "from sklearn.metrics import r2_score\n",
    "print(r2_score(y_test,y_pred))"
   ]
  },
  {
   "cell_type": "code",
   "execution_count": null,
   "id": "8933d7cd",
   "metadata": {},
   "outputs": [],
   "source": [
    "# This model an R2 of 0.14 which is quite low."
   ]
  },
  {
   "cell_type": "code",
   "execution_count": null,
   "id": "3b9590e7",
   "metadata": {},
   "outputs": [],
   "source": [
    "# Make predictions on test set and report R2."
   ]
  },
  {
   "cell_type": "code",
   "execution_count": 179,
   "id": "81f4e524",
   "metadata": {},
   "outputs": [
    {
     "data": {
      "text/plain": [
       "array([4.26731424, 4.27789971, 3.90023863, ..., 4.25135455, 4.17522884,\n",
       "       4.30809792])"
      ]
     },
     "execution_count": 179,
     "metadata": {},
     "output_type": "execute_result"
    }
   ],
   "source": [
    "# Predictions:\n",
    "y_pred\n"
   ]
  }
 ],
 "metadata": {
  "kernelspec": {
   "display_name": "Python 3 (ipykernel)",
   "language": "python",
   "name": "python3"
  },
  "language_info": {
   "codemirror_mode": {
    "name": "ipython",
    "version": 3
   },
   "file_extension": ".py",
   "mimetype": "text/x-python",
   "name": "python",
   "nbconvert_exporter": "python",
   "pygments_lexer": "ipython3",
   "version": "3.9.12"
  }
 },
 "nbformat": 4,
 "nbformat_minor": 5
}
